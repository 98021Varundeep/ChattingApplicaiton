{
  "nbformat": 4,
  "nbformat_minor": 0,
  "metadata": {
    "colab": {
      "provenance": [],
      "authorship_tag": "ABX9TyPwdlTSFy97bSHmixDmUYJY",
      "include_colab_link": true
    },
    "kernelspec": {
      "name": "python3",
      "display_name": "Python 3"
    },
    "language_info": {
      "name": "python"
    }
  },
  "cells": [
    {
      "cell_type": "markdown",
      "metadata": {
        "id": "view-in-github",
        "colab_type": "text"
      },
      "source": [
        "<a href=\"https://colab.research.google.com/github/98021Varundeep/ChattingApplicaiton/blob/main/30jan.ipynb\" target=\"_parent\"><img src=\"https://colab.research.google.com/assets/colab-badge.svg\" alt=\"Open In Colab\"/></a>"
      ]
    },
    {
      "cell_type": "code",
      "execution_count": null,
      "metadata": {
        "id": "pBMNortPB7UH"
      },
      "outputs": [],
      "source": []
    },
    {
      "cell_type": "markdown",
      "source": [
        "1.Number of occurrence\n",
        "Problem statement\n",
        "You have been given a sorted array/list of integers 'arr' of size 'n' and an integer 'x'.\n",
        "Find the total number of occurrences of 'x' in the array/list.\n",
        "Example:\n",
        "Input: 'n' = 7, 'x' = 3\n",
        "'arr' = [1, 1, 1, 2, 2, 3, 3]\n",
        "Output: 2"
      ],
      "metadata": {
        "id": "4pSyN_-RB9uW"
      }
    },
    {
      "cell_type": "code",
      "source": [
        "#use Dict\n",
        "n= int(input(\"Enter value of n :\"))\n",
        "\n",
        "list1 = []\n",
        "if n > 0:\n",
        " print(\"Enter  Elements :\")\n",
        "\n",
        " for i in range(n):\n",
        "    list1.append(int(input()))\n",
        "\n",
        "\n",
        "else :\n",
        " exit()\n",
        "\n",
        "x = int(input(\"Enter Value of x :\"))\n",
        "\n",
        "\n",
        "dict1 = {}\n",
        "\n",
        "for item in list1:\n",
        "    dict1[item] = dict1.get(item,0) + 1\n",
        "\n",
        "\n",
        "ans = dict1.get(x, -1 )\n",
        "if ans == -1 :\n",
        " print(\"Element not exists\")\n",
        "else :\n",
        " print(f\"Element {x} occurs {ans} times\")\n",
        "\n",
        "\n"
      ],
      "metadata": {
        "colab": {
          "base_uri": "https://localhost:8080/"
        },
        "id": "4XP9HLHtCAKG",
        "outputId": "2fd7472d-9351-46c6-ad54-6869440213e7"
      },
      "execution_count": 6,
      "outputs": [
        {
          "output_type": "stream",
          "name": "stdout",
          "text": [
            "Enter value of n :5\n",
            "Enter  Elements :\n",
            "1\n",
            "2\n",
            "2\n",
            "2\n",
            "3\n",
            "Enter Value of x4\n",
            "Element not exists\n"
          ]
        }
      ]
    },
    {
      "cell_type": "code",
      "source": [
        "#Approach 2\n",
        "n= int(input(\"Enter value of n :\"))\n",
        "\n",
        "list1 = []\n",
        "if n > 0:\n",
        " print(\"Enter  Elements :\")\n",
        "\n",
        " for i in range(n):\n",
        "    list1.append(int(input()))\n",
        "\n",
        "\n",
        "else :\n",
        " exit()\n",
        "\n",
        "x = int(input(\"Enter Value of x :\"))\n",
        "count =0\n",
        "\n",
        "for item  in list1:\n",
        "    if item == x :\n",
        "      count += 1\n",
        "\n",
        "if count == 0 :\n",
        " print(\"Element not exists\")\n",
        "else :\n",
        " print(f\"Element {x} exists {count} times\")\n",
        "\n"
      ],
      "metadata": {
        "colab": {
          "base_uri": "https://localhost:8080/"
        },
        "id": "5oS84dNGDsHW",
        "outputId": "09941c7b-b5f1-4820-a30c-2a4fb60d16d2"
      },
      "execution_count": 9,
      "outputs": [
        {
          "output_type": "stream",
          "name": "stdout",
          "text": [
            "Enter value of n :5\n",
            "Enter  Elements :\n",
            "1\n",
            "1\n",
            "3\n",
            "3\n",
            "3\n",
            "Enter Value of x :2\n",
            "Element not exists\n"
          ]
        }
      ]
    },
    {
      "cell_type": "markdown",
      "source": [],
      "metadata": {
        "id": "jb9eHg5DFs-X"
      }
    },
    {
      "cell_type": "code",
      "source": [],
      "metadata": {
        "id": "POgFOo0YFukf"
      },
      "execution_count": null,
      "outputs": []
    },
    {
      "cell_type": "markdown",
      "source": [],
      "metadata": {
        "id": "5hkjP8JDFx_Z"
      }
    },
    {
      "cell_type": "code",
      "source": [],
      "metadata": {
        "id": "Gd-MEmRUFy8K"
      },
      "execution_count": null,
      "outputs": []
    },
    {
      "cell_type": "code",
      "source": [],
      "metadata": {
        "id": "ZgbS8fe4F13u"
      },
      "execution_count": null,
      "outputs": []
    },
    {
      "cell_type": "markdown",
      "source": [
        "3.Find Duplicates In Array\n",
        "Problem statement\n",
        "You are given an array/list 'ARR' consisting of N integers, which contains elements only in the range 0 to N - 1. Some of the elements may be repeated in 'ARR'. Your task is to find all such duplicate elements.\n",
        "\n",
        "Note:\n",
        "1. All the elements are in the range 0 to N - 1.\n",
        "2. The elements may not be in sorted order.\n",
        "3. You can return the duplicate elements in any order.\n",
        "4. If there are no duplicates present then return an empty array.\n"
      ],
      "metadata": {
        "id": "h03vkDOhF2uX"
      }
    },
    {
      "cell_type": "code",
      "source": [
        "#using Dict\n",
        "\n",
        "n= int(input(\"Enter value of n :\"))\n",
        "\n",
        "list1 = []\n",
        "if n > 0:\n",
        " print(\"Enter  Elements  only in Range of 0 to N-1:\")\n",
        "\n",
        " for i in range(n):\n",
        "    list1.append(int(input()))\n",
        "\n",
        "\n",
        "else :\n",
        " exit()\n",
        "\n",
        "\n",
        "for item in list1:\n",
        "    list1[item % n] = list1[item %n ] + n\n",
        "\n",
        "\n",
        "\n",
        "duplicate_ele = []\n",
        "ele_absent = []\n",
        "for i  in range(len(list1)):\n",
        "    if  list1[i] // n == 2 :\n",
        "     duplicate_ele.append(i)\n",
        "    elif ( list1[i] // n == 0) :\n",
        "     ele_absent.append(i)\n",
        "\n",
        "print(\"Duplicate elements are :- \")\n",
        "print(duplicate_ele)\n",
        "\n",
        "print(\"Absent Elements are: -\")\n",
        "print(ele_absent)\n",
        "\n",
        "\n"
      ],
      "metadata": {
        "colab": {
          "base_uri": "https://localhost:8080/"
        },
        "id": "d-ahoju8F9Rg",
        "outputId": "fee1b8c3-f22b-4017-cc0e-e71d02607416"
      },
      "execution_count": 16,
      "outputs": [
        {
          "output_type": "stream",
          "name": "stdout",
          "text": [
            "Enter value of n :7\n",
            "Enter  Elements  only in Range of 0 to N-1:\n",
            "3\n",
            "2\n",
            "1\n",
            "3\n",
            "2\n",
            "1\n",
            "5\n",
            "Duplicate elements are :- \n",
            "[1, 2, 3]\n",
            "Absent Elements are: -\n",
            "[0, 4, 6]\n"
          ]
        }
      ]
    },
    {
      "cell_type": "code",
      "source": [],
      "metadata": {
        "id": "Ef6d1anGIoH6"
      },
      "execution_count": null,
      "outputs": []
    },
    {
      "cell_type": "markdown",
      "source": [
        "\n",
        "4.Sort 0 1 2\n",
        "Problem statement\n",
        "You have been given an integer array/list(ARR) of size 'N'. It only contains 0s, 1s and 2s. Write a solution to sort this array/list.\n",
        "\n",
        "Note :\n",
        "without using any inbuilt function\n",
        "Try to solve the problem in 'Single Scan'. ' Single Scan' refers to iterating over the array/list just once or to put it in other words, you will be visiting each element in the array/list just once.\n",
        "\n"
      ],
      "metadata": {
        "id": "T_1aN_7hTgbD"
      }
    },
    {
      "cell_type": "code",
      "source": [
        "\n",
        "n= int(input(\"Enter value of n :\"))\n",
        "\n",
        "list1 = []\n",
        "if n > 0:\n",
        " print(\"Enter  Binary  Elements  :\")\n",
        "\n",
        " for i in range(n):\n",
        "    list1.append(int(input()))\n",
        "\n",
        "\n",
        "else :\n",
        " exit()\n",
        "\n",
        "\n",
        "curr = 0\n",
        "l  =  len(list1)\n",
        "z_index = 0\n",
        "two_index = l-1\n",
        "\n",
        "while  curr < two_index:\n",
        "   if list1[curr] == 0 :\n",
        "       list1[curr],list1[z_index] = list1[z_index], list1[curr]\n",
        "       z_index += 1\n",
        "       curr += 1\n",
        "   elif list1[curr] == 2 :\n",
        "        list1[curr],list1[two_index] = list1[two_index], list1[curr]\n",
        "        two_index -= 1\n",
        "   else :\n",
        "\n",
        "      curr += 1\n",
        "\n",
        "\n",
        "\n",
        "print(list1)"
      ],
      "metadata": {
        "colab": {
          "base_uri": "https://localhost:8080/"
        },
        "id": "DMJNVKGITjAe",
        "outputId": "07dedb0f-b17e-4ced-a43e-637880e782b5"
      },
      "execution_count": 31,
      "outputs": [
        {
          "output_type": "stream",
          "name": "stdout",
          "text": [
            "Enter value of n :6\n",
            "Enter  Binary  Elements  :\n",
            "1\n",
            "0\n",
            "0\n",
            "0\n",
            "0\n",
            "2\n",
            "[0, 0, 0, 0, 1, 2]\n"
          ]
        }
      ]
    },
    {
      "cell_type": "code",
      "source": [],
      "metadata": {
        "colab": {
          "base_uri": "https://localhost:8080/"
        },
        "id": "gaIdH5vXVkB5",
        "outputId": "1f16b04a-c23f-4fa9-afc3-d3a403156104"
      },
      "execution_count": 30,
      "outputs": [
        {
          "output_type": "execute_result",
          "data": {
            "text/plain": [
              "2"
            ]
          },
          "metadata": {},
          "execution_count": 30
        }
      ]
    },
    {
      "cell_type": "code",
      "source": [],
      "metadata": {
        "id": "h10tuDfhbVBN"
      },
      "execution_count": null,
      "outputs": []
    }
  ]
}